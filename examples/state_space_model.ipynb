{
 "cells": [
  {
   "cell_type": "code",
   "execution_count": 1,
   "metadata": {},
   "outputs": [],
   "source": [
    "from sympy import symbols, Eq, Matrix\n",
    "from symsolver.symsolver import SymSolver"
   ]
  },
  {
   "cell_type": "code",
   "execution_count": 2,
   "metadata": {},
   "outputs": [],
   "source": [
    "s = [1, 2,\n",
    "     \"R\", \"I\",\n",
    "     \"{C_1}\", \"{C_2}\",\n",
    "     \"{A_1}\", \"{A_2}\"]\n",
    "idx_s = [1, 2,\n",
    "         \"R\", \"I\",\n",
    "         \"C1\", \"C2\",\n",
    "         \"A1\", \"A2\"]\n",
    "\n",
    "_P = symbols(\n",
    "    \" \".join([f\"P_{n}\" if n else \"P\" for n in s]))\n",
    "_Pd = symbols(\n",
    "    \" \".join([f\"\\dot{{P}}_{n}\" if n else \"\\dot{P}\" for n in s]))\n",
    "def P(s):\n",
    "    idx = idx_s.index(s)\n",
    "    return _P[idx]\n",
    "def Pd(s):\n",
    "    idx = idx_s.index(s)\n",
    "    return _Pd[idx]\n",
    "\n",
    "_Q = symbols(\n",
    "    \" \".join([f\"Q_{n}\" if n else \"Q\" for n in s]))\n",
    "_Qd = symbols(\n",
    "    \" \".join([f\"\\dot{{Q}}_{n}\" if n else \"\\dot{Q}\" for n in s]))\n",
    "def Q(s):\n",
    "    idx = idx_s.index(s)\n",
    "    return _Q[idx]\n",
    "def Qd(s):\n",
    "    idx = idx_s.index(s)\n",
    "    return _Qd[idx]\n",
    "R = symbols(\"R\")\n",
    "I = symbols(\"I\")\n",
    "_A = symbols(\"A_1 A_2\")\n",
    "def A(i):\n",
    "    return _A[i-1]\n",
    "_C = symbols(\"C_1 C_2\")\n",
    "def C(i):\n",
    "    return _C[i-1]"
   ]
  },
  {
   "cell_type": "code",
   "execution_count": 3,
   "metadata": {},
   "outputs": [],
   "source": [
    "basic_elements = [\n",
    "                  Eq(C(1)*Pd(\"C1\"), Q(\"C1\")),\n",
    "                  Eq(C(2)*Pd(\"C2\"), Q(\"C2\")),\n",
    "                  Eq(I*Qd(\"I\"), P(\"I\")),\n",
    "                  Eq(R*Q(\"R\"), P(\"R\"))\n",
    "                  ]"
   ]
  },
  {
   "cell_type": "code",
   "execution_count": 4,
   "metadata": {},
   "outputs": [],
   "source": [
    "r = A(1)/A(2)\n",
    "transformers = [\n",
    "                Eq(P(\"A2\"), r*P(\"A1\")),\n",
    "                Eq(Q(\"A2\"), -1/r*Q(\"A1\"))\n",
    "                ]"
   ]
  },
  {
   "cell_type": "code",
   "execution_count": 5,
   "metadata": {},
   "outputs": [],
   "source": [
    "loop_equations = [\n",
    "                  Eq(P(1), P(\"C1\")),\n",
    "                  Eq(P(\"C1\"), P(\"R\") +  P(\"I\") +  P(\"A1\")),\n",
    "                  Eq(P(\"A2\"), P(\"C2\")),\n",
    "                  Eq(P(\"C2\"), P(2))\n",
    "                  ]"
   ]
  },
  {
   "cell_type": "code",
   "execution_count": 6,
   "metadata": {},
   "outputs": [],
   "source": [
    "node_equations = [\n",
    "                  Eq(Q(1), Q(\"C1\") + Q(\"R\")),\n",
    "                  Eq(Q(\"R\"), Q(\"I\")),\n",
    "                  Eq(Q(\"I\"), Q(\"A1\")),\n",
    "                  Eq(Q(2), Q(\"A2\") + Q(\"C2\"))\n",
    "                  ]"
   ]
  },
  {
   "cell_type": "code",
   "execution_count": 7,
   "metadata": {},
   "outputs": [],
   "source": [
    "x_1 = P(\"C1\")\n",
    "x_2 = Q(\"I\")\n",
    "x_3 = P(\"C2\")\n",
    "x = Matrix([\n",
    "            [x_1],\n",
    "            [x_2],\n",
    "            [x_3]\n",
    "            ])\n",
    "\n",
    "x_1d = Pd(\"C1\")\n",
    "x_2d = Qd(\"I\")\n",
    "x_3d = Pd(\"C2\")\n",
    "xd = Matrix([\n",
    "            [x_1d],\n",
    "            [x_2d],\n",
    "            [x_3d]\n",
    "            ])"
   ]
  },
  {
   "cell_type": "code",
   "execution_count": 8,
   "metadata": {},
   "outputs": [],
   "source": [
    "relations = basic_elements \\\n",
    "  + transformers \\\n",
    "  + loop_equations \\\n",
    "  + node_equations\n",
    "\n",
    "state_sym = set.union(x.free_symbols, {Q(1), Q(2)})\n",
    "const_sym = set(\n",
    "    list(_C) + \\\n",
    "    list(_A) + \\\n",
    "    list((R, I)))\n",
    "ok_sym = set.union(state_sym, const_sym)"
   ]
  },
  {
   "cell_type": "code",
   "execution_count": 9,
   "metadata": {},
   "outputs": [],
   "source": [
    "solver = SymSolver(relations=relations, wanted_symbols=ok_sym)"
   ]
  },
  {
   "cell_type": "code",
   "execution_count": 10,
   "metadata": {},
   "outputs": [
    {
     "name": "stdout",
     "output_type": "stream",
     "text": [
      "Solving expression \\dot{P}_{C_1}\n",
      "Got child expression Q_{C_1}/C_1\n",
      "Got child expression \\dot{P}_{C_1}\n",
      "Got child expression \\dot{P}_{C_1}\n",
      "Expression was a duplicate\n",
      "Got child expression (Q_1 - Q_R)/C_1\n",
      "Got child expression \\dot{P}_{C_1}*(Q_1 - Q_R)/Q_{C_1}\n",
      "Got child expression (-P_R/R + Q_1)/C_1\n",
      "Got child expression Q_{C_1}/C_1\n",
      "Expression was a duplicate\n",
      "Got child expression Q_{C_1}/C_1\n",
      "Expression was a duplicate\n",
      "Got child expression (Q_1 - Q_I)/C_1\n",
      "Got solution (Q_1 - Q_I)/C_1\n"
     ]
    },
    {
     "data": {
      "text/latex": [
       "$\\displaystyle \\frac{Q_{1} - Q_{I}}{C_{1}}$"
      ],
      "text/plain": [
       "(Q_1 - Q_I)/C_1"
      ]
     },
     "execution_count": 10,
     "metadata": {},
     "output_type": "execute_result"
    }
   ],
   "source": [
    "solver.solve(x_1d)"
   ]
  },
  {
   "cell_type": "code",
   "execution_count": 11,
   "metadata": {},
   "outputs": [
    {
     "name": "stdout",
     "output_type": "stream",
     "text": [
      "Solving expression \\dot{Q}_I\n",
      "Got child expression P_I/I\n",
      "Got child expression \\dot{Q}_I\n",
      "Got child expression \\dot{Q}_I\n",
      "Expression was a duplicate\n",
      "Got child expression (-P_R - P_{A_1} + P_{C_1})/I\n",
      "Got child expression \\dot{Q}_I*(-P_R - P_{A_1} + P_{C_1})/P_I\n",
      "Got child expression (-P_{A_1} + P_{C_1} - Q_R*R)/I\n",
      "Got child expression (-P_R + P_{C_1} - A_2*P_{A_2}/A_1)/I\n",
      "Got child expression (P_1 - P_R - P_{A_1})/I\n",
      "Got child expression P_I/I\n",
      "Expression was a duplicate\n",
      "Got child expression P_I/I\n",
      "Expression was a duplicate\n",
      "Got child expression P_I/I\n",
      "Expression was a duplicate\n",
      "Got child expression \\dot{Q}_I*(-P_R + P_{C_1} - A_2*P_{A_2}/A_1)/P_I\n",
      "Got child expression (P_{C_1} - Q_R*R - A_2*P_{A_2}/A_1)/I\n",
      "Got child expression (-P_R - P_{A_1} + P_{C_1})/I\n",
      "Expression was a duplicate\n",
      "Got child expression (-P_R - P_{A_1} + P_{C_1})/I\n",
      "Expression was a duplicate\n",
      "Got child expression (-P_R - P_{A_1} + P_{C_1})/I\n",
      "Expression was a duplicate\n",
      "Got child expression (-P_R + P_{A_2}*Q_{A_2}/Q_{A_1} + P_{C_1})/I\n",
      "Got child expression (-P_R + P_{A_2}*Q_{A_2}/Q_{A_1} + P_{C_1})/I\n",
      "Expression was a duplicate\n",
      "Got child expression (P_1 - P_R - A_2*P_{A_2}/A_1)/I\n",
      "Got child expression (P_I + P_{A_1} - A_2*P_{A_2}/A_1)/I\n",
      "Got child expression (P_I + P_{A_1} - A_2*P_{A_2}/A_1)/I\n",
      "Expression was a duplicate\n",
      "Got child expression (-P_R + P_{C_1} - A_2*P_{C_2}/A_1)/I\n",
      "Got child expression \\dot{Q}_I*(-P_R + P_{C_1} - A_2*P_{C_2}/A_1)/P_I\n",
      "Got child expression (P_{C_1} - Q_R*R - A_2*P_{C_2}/A_1)/I\n",
      "Got child expression (-P_R - P_{A_1}*P_{C_2}/P_{A_2} + P_{C_1})/I\n",
      "Got child expression (-P_R - P_{A_1}*P_{C_2}/P_{A_2} + P_{C_1})/I\n",
      "Expression was a duplicate\n",
      "Got child expression (-P_R + P_{C_1} + P_{C_2}*Q_{A_2}/Q_{A_1})/I\n",
      "Got child expression (-P_R + P_{C_1} + P_{C_2}*Q_{A_2}/Q_{A_1})/I\n",
      "Expression was a duplicate\n",
      "Got child expression (P_1 - P_R - A_2*P_{C_2}/A_1)/I\n",
      "Got child expression (P_I + P_{A_1} - A_2*P_{C_2}/A_1)/I\n",
      "Got child expression (P_I + P_{A_1} - A_2*P_{C_2}/A_1)/I\n",
      "Expression was a duplicate\n",
      "Got child expression (-P_R + P_{C_1} - A_2*P_{A_2}/A_1)/I\n",
      "Expression was a duplicate\n",
      "Got child expression (-P_R + P_{C_1} - A_2*P_2/A_1)/I\n",
      "Got child expression \\dot{Q}_I*(P_{C_1} - Q_R*R - A_2*P_{C_2}/A_1)/P_I\n",
      "Got child expression (-P_R + P_{C_1} - A_2*P_{C_2}/A_1)/I\n",
      "Expression was a duplicate\n",
      "Got child expression (-P_R + P_{C_1} - A_2*P_{C_2}/A_1)/I\n",
      "Expression was a duplicate\n",
      "Got child expression (-P_{A_1}*P_{C_2}/P_{A_2} + P_{C_1} - Q_R*R)/I\n",
      "Got child expression (-P_{A_1}*P_{C_2}/P_{A_2} + P_{C_1} - Q_R*R)/I\n",
      "Expression was a duplicate\n",
      "Got child expression (P_{C_1} + P_{C_2}*Q_{A_2}/Q_{A_1} - Q_R*R)/I\n",
      "Got child expression (P_{C_1} + P_{C_2}*Q_{A_2}/Q_{A_1} - Q_R*R)/I\n",
      "Expression was a duplicate\n",
      "Got child expression (P_1 - Q_R*R - A_2*P_{C_2}/A_1)/I\n",
      "Got child expression (P_I + P_R + P_{A_1} - Q_R*R - A_2*P_{C_2}/A_1)/I\n",
      "Got child expression (P_{C_1} - Q_R*R - A_2*P_{A_2}/A_1)/I\n",
      "Expression was a duplicate\n",
      "Got child expression (P_{C_1} - Q_R*R - A_2*P_2/A_1)/I\n",
      "Got child expression (P_{C_1} - R*(Q_1 - Q_{C_1}) - A_2*P_{C_2}/A_1)/I\n",
      "Got child expression (P_{C_1} - Q_I*R - A_2*P_{C_2}/A_1)/I\n",
      "Got solution (P_{C_1} - Q_I*R - A_2*P_{C_2}/A_1)/I\n"
     ]
    },
    {
     "data": {
      "text/latex": [
       "$\\displaystyle \\frac{P_{C_1} - Q_{I} R - \\frac{A_{2} P_{C_2}}{A_{1}}}{I}$"
      ],
      "text/plain": [
       "(P_{C_1} - Q_I*R - A_2*P_{C_2}/A_1)/I"
      ]
     },
     "execution_count": 11,
     "metadata": {},
     "output_type": "execute_result"
    }
   ],
   "source": [
    "solver.solve(x_2d)"
   ]
  },
  {
   "cell_type": "code",
   "execution_count": 12,
   "metadata": {},
   "outputs": [
    {
     "name": "stdout",
     "output_type": "stream",
     "text": [
      "Solving expression \\dot{P}_{C_2}\n",
      "Got child expression Q_{C_2}/C_2\n",
      "Got child expression \\dot{P}_{C_2}\n",
      "Got child expression \\dot{P}_{C_2}\n",
      "Expression was a duplicate\n",
      "Got child expression (Q_2 - Q_{A_2})/C_2\n",
      "Got child expression \\dot{P}_{C_2}*(Q_2 - Q_{A_2})/Q_{C_2}\n",
      "Got child expression (Q_2 + A_2*Q_{A_1}/A_1)/C_2\n",
      "Got child expression Q_{C_2}/C_2\n",
      "Expression was a duplicate\n",
      "Got child expression Q_{C_2}/C_2\n",
      "Expression was a duplicate\n",
      "Got child expression \\dot{P}_{C_2}*(Q_2 + A_2*Q_{A_1}/A_1)/Q_{C_2}\n",
      "Got child expression (P_{A_1}*Q_{A_1}/P_{A_2} + Q_2)/C_2\n",
      "Got child expression (P_{A_1}*Q_{A_1}/P_{A_2} + Q_2)/C_2\n",
      "Expression was a duplicate\n",
      "Got child expression (Q_2 - Q_{A_2})/C_2\n",
      "Expression was a duplicate\n",
      "Got child expression (Q_2 - Q_{A_2})/C_2\n",
      "Expression was a duplicate\n",
      "Got child expression (Q_2 - Q_{A_2})/C_2\n",
      "Expression was a duplicate\n",
      "Got child expression (Q_2 + A_2*Q_I/A_1)/C_2\n",
      "Got solution (Q_2 + A_2*Q_I/A_1)/C_2\n"
     ]
    },
    {
     "data": {
      "text/latex": [
       "$\\displaystyle \\frac{Q_{2} + \\frac{A_{2} Q_{I}}{A_{1}}}{C_{2}}$"
      ],
      "text/plain": [
       "(Q_2 + A_2*Q_I/A_1)/C_2"
      ]
     },
     "execution_count": 12,
     "metadata": {},
     "output_type": "execute_result"
    }
   ],
   "source": [
    "solver.solve(x_3d)"
   ]
  },
  {
   "cell_type": "code",
   "execution_count": null,
   "metadata": {},
   "outputs": [],
   "source": [
    "7"
   ]
  }
 ],
 "metadata": {
  "kernelspec": {
   "display_name": "Python 3",
   "language": "python",
   "name": "python3"
  },
  "language_info": {
   "codemirror_mode": {
    "name": "ipython",
    "version": 3
   },
   "file_extension": ".py",
   "mimetype": "text/x-python",
   "name": "python",
   "nbconvert_exporter": "python",
   "pygments_lexer": "ipython3",
   "version": "3.8.2"
  }
 },
 "nbformat": 4,
 "nbformat_minor": 4
}
